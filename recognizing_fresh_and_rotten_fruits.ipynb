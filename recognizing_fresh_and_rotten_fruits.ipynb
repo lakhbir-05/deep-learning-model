{
  "cells": [
    {
      "cell_type": "markdown",
      "metadata": {
        "id": "view-in-github",
        "colab_type": "text"
      },
      "source": [
        "<a href=\"https://colab.research.google.com/github/lakhbir-05/deep-learning-model/blob/main/recognizing_fresh_and_rotten_fruits.ipynb\" target=\"_parent\"><img src=\"https://colab.research.google.com/assets/colab-badge.svg\" alt=\"Open In Colab\"/></a>"
      ]
    },
    {
      "cell_type": "markdown",
      "metadata": {
        "id": "TYIbNhMJ7vj4"
      },
      "source": [
        "<center><a href=\"https://www.nvidia.com/dli\"> <img src=\"images/DLI_Header.png\" alt=\"Header\" style=\"width: 400px;\"/> </a></center>"
      ]
    },
    {
      "cell_type": "markdown",
      "metadata": {
        "id": "iCFibh_s7vj6"
      },
      "source": [
        "# 7. Assessment"
      ]
    },
    {
      "cell_type": "markdown",
      "metadata": {
        "id": "bCU2Mcb97vj7"
      },
      "source": [
        "Congratulations on going through today's course! Hopefully, you've learned some valuable skills along the way and had fun doing it. Now it's time to put those skills to the test. In this assessment, you will train a new model that is able to recognize fresh and rotten fruit. You will need to get the model to a validation accuracy of `92%` in order to pass the assessment, though we challenge you to do even better if you can. You will have the use the skills that you learned in the previous exercises. Specifically, we suggest using some combination of transfer learning, data augmentation, and fine tuning. Once you have trained the model to be at least 92% accurate on the validation dataset, save your model, and then assess its accuracy. Let's get started!"
      ]
    },
    {
      "cell_type": "code",
      "execution_count": null,
      "metadata": {
        "colab": {
          "base_uri": "https://localhost:8080/"
        },
        "id": "DvfWVI3b7vj8",
        "outputId": "899ebcdb-c7c0-4b38-f559-6371658f595c"
      },
      "outputs": [
        {
          "output_type": "execute_result",
          "data": {
            "text/plain": [
              "False"
            ]
          },
          "metadata": {},
          "execution_count": 1
        }
      ],
      "source": [
        "import torch\n",
        "import torch.nn as nn\n",
        "from torch.optim import Adam\n",
        "from torch.utils.data import Dataset, DataLoader\n",
        "import torchvision.transforms.v2 as transforms\n",
        "import torchvision.io as tv_io\n",
        "\n",
        "import glob\n",
        "from PIL import Image\n",
        "\n",
        "import utils\n",
        "\n",
        "device = torch.device(\"cuda\" if torch.cuda.is_available() else \"cpu\")\n",
        "torch.cuda.is_available()"
      ]
    },
    {
      "cell_type": "markdown",
      "metadata": {
        "id": "8XYnkV717vj-"
      },
      "source": [
        "## 7.1 The Dataset"
      ]
    },
    {
      "cell_type": "markdown",
      "metadata": {
        "id": "6JJEOYkp7vj-"
      },
      "source": [
        "In this exercise, you will train a model to recognize fresh and rotten fruits. The dataset comes from [Kaggle](https://www.kaggle.com/sriramr/fruits-fresh-and-rotten-for-classification), a great place to go if you're interested in starting a project after this class. The dataset structure is in the `data/fruits` folder. There are 6 categories of fruits: fresh apples, fresh oranges, fresh bananas, rotten apples, rotten oranges, and rotten bananas. This will mean that your model will require an output layer of 6 neurons to do the categorization successfully. You'll also need to compile the model with `categorical_crossentropy`, as we have more than two categories."
      ]
    },
    {
      "cell_type": "markdown",
      "metadata": {
        "id": "kFDo4ZD67vj_"
      },
      "source": [
        "<img src=\"./images/fruits.png\" style=\"width: 600px;\">"
      ]
    },
    {
      "cell_type": "markdown",
      "metadata": {
        "id": "qVOs0HCy7vj_"
      },
      "source": [
        "## 7.2 Load ImageNet Base Model"
      ]
    },
    {
      "cell_type": "markdown",
      "metadata": {
        "id": "uV1_W6g_7vj_"
      },
      "source": [
        "We encourage you to start with a model pretrained on ImageNet. Load the model with the correct weights. Because these pictures are in color, there will be three channels for red, green, and blue. We've filled in the input shape for you. If you need a reference for setting up the pretrained model, please take a look at [notebook 05b](05b_presidential_doggy_door.ipynb) where we implemented transfer learning."
      ]
    },
    {
      "cell_type": "code",
      "execution_count": null,
      "metadata": {
        "id": "c41Rp3FJ7vj_",
        "outputId": "40e279c0-e363-41a2-d57b-42800f5c90ea"
      },
      "outputs": [
        {
          "name": "stderr",
          "output_type": "stream",
          "text": [
            "Downloading: \"https://download.pytorch.org/models/vgg16-397923af.pth\" to /root/.cache/torch/hub/checkpoints/vgg16-397923af.pth\n",
            "100%|██████████| 528M/528M [00:02<00:00, 207MB/s] \n"
          ]
        }
      ],
      "source": [
        "from torchvision.models import vgg16\n",
        "from torchvision.models import VGG16_Weights\n",
        "\n",
        "# Load the default pretrained weights for VGG16\n",
        "weights = VGG16_Weights.DEFAULT\n",
        "# Instantiate the model with pretrained weights\n",
        "vgg_model = vgg16(weights=weights)"
      ]
    },
    {
      "cell_type": "markdown",
      "metadata": {
        "id": "xrQ7Z0K87vkA"
      },
      "source": [
        "## 7.3 Freeze Base Model"
      ]
    },
    {
      "cell_type": "markdown",
      "metadata": {
        "id": "wBMavFrb7vkA"
      },
      "source": [
        "Next, we suggest freezing the base model, as done in [notebook 05b](05b_presidential_doggy_door.ipynb). This is done so that all the learning from the ImageNet dataset does not get destroyed in the initial training."
      ]
    },
    {
      "cell_type": "code",
      "execution_count": null,
      "metadata": {
        "id": "E5X3B47Q7vkA",
        "outputId": "ba4a54a8-2475-4e03-ecbe-8713520d9bfc"
      },
      "outputs": [
        {
          "data": {
            "text/plain": [
              "False"
            ]
          },
          "execution_count": 3,
          "metadata": {},
          "output_type": "execute_result"
        }
      ],
      "source": [
        "# Freeze base model(so that parameters do not get updated during training)\n",
        "vgg_model.requires_grad_(False)\n",
        "next(iter(vgg_model.parameters())).requires_grad #This retrieves the first parameter from the model and checks if it requires gradients"
      ]
    },
    {
      "cell_type": "markdown",
      "metadata": {
        "id": "kkmgUEcm7vkA"
      },
      "source": [
        "## 7.4 Add Layers to Model"
      ]
    },
    {
      "cell_type": "markdown",
      "metadata": {
        "id": "RxuKS-pO7vkA"
      },
      "source": [
        "Now it's time to add layers to the pretrained model. [Notebook 05b](05b_presidential_doggy_door.ipynb) can be used as a guide. Pay close attention to the last dense layer and make sure it has the correct number of neurons to classify the different types of fruit.\n",
        "\n",
        "The later layers of a model become more specific to the data the model trained on. Since we want the more general learnings from VGG, we can select parts of it, like so:"
      ]
    },
    {
      "cell_type": "code",
      "execution_count": null,
      "metadata": {
        "id": "wO0FHUdW7vkB",
        "outputId": "2291e4d0-da12-47eb-f2ba-59e736d7d4cf"
      },
      "outputs": [
        {
          "data": {
            "text/plain": [
              "Sequential(\n",
              "  (0): Linear(in_features=25088, out_features=4096, bias=True)\n",
              "  (1): ReLU(inplace=True)\n",
              "  (2): Dropout(p=0.5, inplace=False)\n",
              ")"
            ]
          },
          "execution_count": 4,
          "metadata": {},
          "output_type": "execute_result"
        }
      ],
      "source": [
        "vgg_model.classifier[0:3]\n",
        "#When you access vgg_model.classifier[0:3], you're slicing the first three layers of the classifier part of a VGG model (typically vgg16 or vgg19)."
      ]
    },
    {
      "cell_type": "markdown",
      "metadata": {
        "id": "nw-eVIHQ7vkB"
      },
      "source": [
        "Once we've taken what we've wanted from VGG16, we can then add our own modifications. No matter what additional modules we add, we still need to end with one value for each output."
      ]
    },
    {
      "cell_type": "code",
      "execution_count": null,
      "metadata": {
        "id": "rsHhqeCL7vkB",
        "outputId": "2cb87eb6-8c00-467d-f61b-8be25e521e76"
      },
      "outputs": [
        {
          "data": {
            "text/plain": [
              "Sequential(\n",
              "  (0): Sequential(\n",
              "    (0): Conv2d(3, 64, kernel_size=(3, 3), stride=(1, 1), padding=(1, 1))\n",
              "    (1): ReLU(inplace=True)\n",
              "    (2): Conv2d(64, 64, kernel_size=(3, 3), stride=(1, 1), padding=(1, 1))\n",
              "    (3): ReLU(inplace=True)\n",
              "    (4): MaxPool2d(kernel_size=2, stride=2, padding=0, dilation=1, ceil_mode=False)\n",
              "    (5): Conv2d(64, 128, kernel_size=(3, 3), stride=(1, 1), padding=(1, 1))\n",
              "    (6): ReLU(inplace=True)\n",
              "    (7): Conv2d(128, 128, kernel_size=(3, 3), stride=(1, 1), padding=(1, 1))\n",
              "    (8): ReLU(inplace=True)\n",
              "    (9): MaxPool2d(kernel_size=2, stride=2, padding=0, dilation=1, ceil_mode=False)\n",
              "    (10): Conv2d(128, 256, kernel_size=(3, 3), stride=(1, 1), padding=(1, 1))\n",
              "    (11): ReLU(inplace=True)\n",
              "    (12): Conv2d(256, 256, kernel_size=(3, 3), stride=(1, 1), padding=(1, 1))\n",
              "    (13): ReLU(inplace=True)\n",
              "    (14): Conv2d(256, 256, kernel_size=(3, 3), stride=(1, 1), padding=(1, 1))\n",
              "    (15): ReLU(inplace=True)\n",
              "    (16): MaxPool2d(kernel_size=2, stride=2, padding=0, dilation=1, ceil_mode=False)\n",
              "    (17): Conv2d(256, 512, kernel_size=(3, 3), stride=(1, 1), padding=(1, 1))\n",
              "    (18): ReLU(inplace=True)\n",
              "    (19): Conv2d(512, 512, kernel_size=(3, 3), stride=(1, 1), padding=(1, 1))\n",
              "    (20): ReLU(inplace=True)\n",
              "    (21): Conv2d(512, 512, kernel_size=(3, 3), stride=(1, 1), padding=(1, 1))\n",
              "    (22): ReLU(inplace=True)\n",
              "    (23): MaxPool2d(kernel_size=2, stride=2, padding=0, dilation=1, ceil_mode=False)\n",
              "    (24): Conv2d(512, 512, kernel_size=(3, 3), stride=(1, 1), padding=(1, 1))\n",
              "    (25): ReLU(inplace=True)\n",
              "    (26): Conv2d(512, 512, kernel_size=(3, 3), stride=(1, 1), padding=(1, 1))\n",
              "    (27): ReLU(inplace=True)\n",
              "    (28): Conv2d(512, 512, kernel_size=(3, 3), stride=(1, 1), padding=(1, 1))\n",
              "    (29): ReLU(inplace=True)\n",
              "    (30): MaxPool2d(kernel_size=2, stride=2, padding=0, dilation=1, ceil_mode=False)\n",
              "  )\n",
              "  (1): AdaptiveAvgPool2d(output_size=(7, 7))\n",
              "  (2): Flatten(start_dim=1, end_dim=-1)\n",
              "  (3): Sequential(\n",
              "    (0): Linear(in_features=25088, out_features=4096, bias=True)\n",
              "    (1): ReLU(inplace=True)\n",
              "    (2): Dropout(p=0.5, inplace=False)\n",
              "  )\n",
              "  (4): Linear(in_features=4096, out_features=500, bias=True)\n",
              "  (5): ReLU()\n",
              "  (6): Linear(in_features=500, out_features=6, bias=True)\n",
              ")"
            ]
          },
          "execution_count": 5,
          "metadata": {},
          "output_type": "execute_result"
        }
      ],
      "source": [
        "N_CLASSES = 6\n",
        "\n",
        "my_model = nn.Sequential(\n",
        "    vgg_model.features, #  Convolutional layers (frozen)\n",
        "    vgg_model.avgpool, # Adaptive average pooling\n",
        "    nn.Flatten(),    # Flatten to (batch_size, 25088)\n",
        "    vgg_model.classifier[0:3],  # First Linear + ReLU + Dropout (output: 4096)\n",
        "    nn.Linear(4096, 500),   # New Linear layer\n",
        "    nn.ReLU(),   # Activation\n",
        "    nn.Linear(500, N_CLASSES)         # Output layer for your 6 classes\n",
        "\n",
        ")\n",
        "my_model\n",
        "#25088 → 4096 → 500 → 6"
      ]
    },
    {
      "cell_type": "markdown",
      "metadata": {
        "id": "VxE-w8WR7vkB"
      },
      "source": [
        "## 7.5 Compile Model"
      ]
    },
    {
      "cell_type": "markdown",
      "metadata": {
        "id": "M75TSkmc7vkB"
      },
      "source": [
        "Now it's time to compile the model with loss and metrics options. We have 6 classes, so which loss function should we use?"
      ]
    },
    {
      "cell_type": "code",
      "execution_count": null,
      "metadata": {
        "id": "O3W22mJC7vkB"
      },
      "outputs": [],
      "source": [
        "loss_function = nn.CrossEntropyLoss()\n",
        "optimizer = Adam(my_model.parameters())\n",
        "my_model = torch.compile(my_model.to(device))"
      ]
    },
    {
      "cell_type": "markdown",
      "metadata": {
        "id": "xNCY1UmG7vkB"
      },
      "source": [
        "## 7.6 Data Transforms"
      ]
    },
    {
      "cell_type": "markdown",
      "metadata": {
        "id": "4bbhAxLl7vkC"
      },
      "source": [
        "To preprocess our input images, we will use the transforms included with the VGG16 weights."
      ]
    },
    {
      "cell_type": "code",
      "execution_count": null,
      "metadata": {
        "id": "EsB06bID7vkC"
      },
      "outputs": [],
      "source": [
        "pre_trans = weights.transforms()"
      ]
    },
    {
      "cell_type": "markdown",
      "metadata": {
        "id": "M7UGhqfD7vkC"
      },
      "source": [
        "Try to randomly augment the data to improve the dataset. Feel free to look at [notebook 04a](04a_asl_augmentation.ipynb) and [notebook 05b](05b_presidential_doggy_door.ipynb) for augmentation examples. There is also documentation for the [TorchVision Transforms class](https://pytorch.org/vision/stable/transforms.html).\n",
        "\n",
        "**Hint**: Remember not to make the data augmentation too extreme."
      ]
    },
    {
      "cell_type": "code",
      "execution_count": null,
      "metadata": {
        "id": "a6R-L9D57vkC"
      },
      "outputs": [],
      "source": [
        "IMG_WIDTH, IMG_HEIGHT = (224, 224)\n",
        "\n",
        "random_trans = transforms.Compose([\n",
        "    transforms.RandomRotation(5),\n",
        "    transforms.RandomResizedCrop((IMG_WIDTH,IMG_HEIGHT),scale=(.9,1),ratio=(1,1)),\n",
        "    transforms.RandomHorizontalFlip(),\n",
        "    transforms.ColorJitter(brightness=.2,contrast=.5)\n",
        "])"
      ]
    },
    {
      "cell_type": "markdown",
      "metadata": {
        "id": "QnLFKf6H7vkC"
      },
      "source": [
        "## 7.7 Load Dataset"
      ]
    },
    {
      "cell_type": "markdown",
      "metadata": {
        "id": "k0h1ziAu7vkC"
      },
      "source": [
        "Now it's time to load the train and validation datasets."
      ]
    },
    {
      "cell_type": "code",
      "execution_count": null,
      "metadata": {
        "id": "Ud07-SsI7vkC"
      },
      "outputs": [],
      "source": [
        "DATA_LABELS = [\"freshapples\", \"freshbanana\", \"freshoranges\", \"rottenapples\", \"rottenbanana\", \"rottenoranges\"]\n",
        "\n",
        "class MyDataset(Dataset):\n",
        "    def __init__(self, data_dir):\n",
        "        self.imgs = []\n",
        "        self.labels = []\n",
        "\n",
        "        for l_idx, label in enumerate(DATA_LABELS):\n",
        "            data_paths = glob.glob(data_dir + label + '/*.png', recursive=True)\n",
        "            for path in data_paths:\n",
        "                img = tv_io.read_image(path, tv_io.ImageReadMode.RGB)\n",
        "                self.imgs.append(pre_trans(img).to(device))\n",
        "                self.labels.append(torch.tensor(l_idx).to(device))\n",
        "\n",
        "\n",
        "    def __getitem__(self, idx):\n",
        "        img = self.imgs[idx]\n",
        "        label = self.labels[idx]\n",
        "        return img, label\n",
        "\n",
        "    def __len__(self):\n",
        "        return len(self.imgs)"
      ]
    },
    {
      "cell_type": "markdown",
      "metadata": {
        "id": "EizvPm5d7vkD"
      },
      "source": [
        "Select the batch size `n` and set `shuffle` either to `True` or `False` depending on if we are `train`ing or `valid`ating. For a reference, check out [notebook 05b](05b_presidential_doggy_door.ipynb)."
      ]
    },
    {
      "cell_type": "code",
      "execution_count": null,
      "metadata": {
        "id": "UoxuqoNX7vkD"
      },
      "outputs": [],
      "source": [
        "n = 32\n",
        "\n",
        "train_path = \"data/fruits/train/\"\n",
        "train_data = MyDataset(train_path)\n",
        "train_loader = DataLoader(train_data, batch_size=n, shuffle=True)\n",
        "train_N = len(train_loader.dataset)\n",
        "\n",
        "valid_path = \"data/fruits/valid/\"\n",
        "valid_data = MyDataset(valid_path)\n",
        "valid_loader = DataLoader(valid_data, batch_size=n, shuffle=False)\n",
        "valid_N = len(valid_loader.dataset)"
      ]
    },
    {
      "cell_type": "markdown",
      "metadata": {
        "id": "3ZT6xgHN7vkD"
      },
      "source": [
        "## 7.8 Train the Model"
      ]
    },
    {
      "cell_type": "markdown",
      "metadata": {
        "id": "W44sSVtk7vkD"
      },
      "source": [
        "Time to train the model! We've moved the `train` and `validate` functions to our [utils.py](./utils.py) file. Before running the below, make sure all your variables are correctly defined.\n",
        "\n",
        "It may help to rerun this cell or change the number of `epochs`."
      ]
    },
    {
      "cell_type": "code",
      "execution_count": null,
      "metadata": {
        "id": "3BPtDXQh7vkD",
        "outputId": "e14f8c2c-9115-47ee-8008-12a49e83b129"
      },
      "outputs": [
        {
          "name": "stdout",
          "output_type": "stream",
          "text": [
            "Epoch: 0\n",
            "Train - Loss: 22.3535 Accuracy: 0.7758\n",
            "Valid - Loss: 12.7030 Accuracy: 0.8116\n",
            "Epoch: 1\n",
            "Train - Loss: 12.2519 Accuracy: 0.8756\n",
            "Valid - Loss: 4.9371 Accuracy: 0.8875\n",
            "Epoch: 2\n",
            "Train - Loss: 9.9907 Accuracy: 0.8968\n",
            "Valid - Loss: 4.4327 Accuracy: 0.8936\n",
            "Epoch: 3\n",
            "Train - Loss: 7.6659 Accuracy: 0.9239\n",
            "Valid - Loss: 3.2433 Accuracy: 0.9240\n",
            "Epoch: 4\n",
            "Train - Loss: 7.2618 Accuracy: 0.9298\n",
            "Valid - Loss: 5.0611 Accuracy: 0.8845\n",
            "Epoch: 5\n",
            "Train - Loss: 6.4150 Accuracy: 0.9357\n",
            "Valid - Loss: 4.8514 Accuracy: 0.8906\n",
            "Epoch: 6\n",
            "Train - Loss: 5.4308 Accuracy: 0.9408\n",
            "Valid - Loss: 2.4481 Accuracy: 0.9301\n",
            "Epoch: 7\n",
            "Train - Loss: 6.2161 Accuracy: 0.9365\n",
            "Valid - Loss: 3.0093 Accuracy: 0.9331\n",
            "Epoch: 8\n",
            "Train - Loss: 6.4052 Accuracy: 0.9382\n",
            "Valid - Loss: 4.5418 Accuracy: 0.8936\n",
            "Epoch: 9\n",
            "Train - Loss: 5.2353 Accuracy: 0.9450\n",
            "Valid - Loss: 2.8139 Accuracy: 0.9331\n"
          ]
        }
      ],
      "source": [
        "epochs = 10\n",
        "\n",
        "for epoch in range(epochs):\n",
        "    print('Epoch: {}'.format(epoch))\n",
        "    utils.train(my_model, train_loader, train_N, random_trans, optimizer, loss_function)\n",
        "    utils.validate(my_model, valid_loader, valid_N, loss_function)"
      ]
    },
    {
      "cell_type": "markdown",
      "metadata": {
        "id": "Ylnw7x8l7vkE"
      },
      "source": [
        "## 7.9 Unfreeze Model for Fine Tuning"
      ]
    },
    {
      "cell_type": "markdown",
      "metadata": {
        "id": "ANvnhyiG7vkE"
      },
      "source": [
        "If you have reached 92% validation accuracy already, this next step is optional. If not, we suggest fine tuning the model with a very low learning rate."
      ]
    },
    {
      "cell_type": "code",
      "source": [
        "# Unfreeze the base model\n",
        "vgg_model.requires_grad_(True)\n",
        "optimizer = Adam(my_model.parameters(), lr=.0001)"
      ],
      "metadata": {
        "id": "OBB9_X4z_wOa"
      },
      "execution_count": null,
      "outputs": []
    },
    {
      "cell_type": "code",
      "execution_count": null,
      "metadata": {
        "id": "bLY6WJJO7vkE"
      },
      "outputs": [],
      "source": [
        "epochs = 1\n",
        "\n",
        "for epoch in range(epochs):\n",
        "    print('Epoch: {}'.format(epoch))\n",
        "    utils.train(my_model, train_loader, train_N, random_trans, optimizer, loss_function)\n",
        "    utils.validate(my_model, valid_loader, valid_N, loss_function)"
      ]
    },
    {
      "cell_type": "markdown",
      "metadata": {
        "id": "uXwLORxl7vkF"
      },
      "source": [
        "## 7.10 Evaluate the Model"
      ]
    },
    {
      "cell_type": "markdown",
      "metadata": {
        "id": "5_CFafBA7vkV"
      },
      "source": [
        "Hopefully, you now have a model that has a validation accuracy of 92% or higher. If not, you may want to go back and either run more epochs of training, or adjust your data augmentation.\n",
        "\n",
        "Once you are satisfied with the validation accuracy, evaluate the model by executing the following cell. The evaluate function will return a tuple, where the first value is your loss, and the second value is your accuracy. To pass, the model will need have an accuracy value of `92% or higher`."
      ]
    },
    {
      "cell_type": "code",
      "execution_count": null,
      "metadata": {
        "id": "SJ3GY7rh7vkV"
      },
      "outputs": [],
      "source": [
        "utils.validate(my_model, valid_loader, valid_N, loss_function)"
      ]
    },
    {
      "cell_type": "markdown",
      "metadata": {
        "id": "9y2fMaKC7vkV"
      },
      "source": [
        "## 7.11 Run the Assessment"
      ]
    },
    {
      "cell_type": "markdown",
      "metadata": {
        "id": "-S5xpM4I7vkV"
      },
      "source": [
        "To assess your model run the following two cells.\n",
        "\n",
        "**NOTE:** `run_assessment` assumes your model is named `my_model`. If for any reason you have modified these variable names, please update the names of the arguments passed to `run_assessment`."
      ]
    },
    {
      "cell_type": "code",
      "execution_count": null,
      "metadata": {
        "id": "FsNmXuB07vkV"
      },
      "outputs": [],
      "source": [
        "from run_assessment import run_assessment"
      ]
    },
    {
      "cell_type": "code",
      "execution_count": null,
      "metadata": {
        "id": "gY00gD6f7vkW"
      },
      "outputs": [],
      "source": [
        "run_assessment(my_model)"
      ]
    },
    {
      "cell_type": "markdown",
      "metadata": {
        "id": "fNkhB5wu7vkW"
      },
      "source": [
        "## 7.12 Generate a Certificate"
      ]
    },
    {
      "cell_type": "markdown",
      "metadata": {
        "id": "CWM23GhC7vkW"
      },
      "source": [
        "If you passed the assessment, please return to the course page (shown below) and click the \"ASSESS TASK\" button, which will generate your certificate for the course."
      ]
    },
    {
      "cell_type": "markdown",
      "metadata": {
        "id": "9czKJOuB7vkW"
      },
      "source": [
        "<img src=\"./images/assess_task.png\" style=\"width: 800px;\">"
      ]
    },
    {
      "cell_type": "markdown",
      "metadata": {
        "id": "Bg4uRZZk7vkW"
      },
      "source": [
        "<center><a href=\"https://www.nvidia.com/dli\"> <img src=\"images/DLI_Header.png\" alt=\"Header\" style=\"width: 400px;\"/> </a></center>"
      ]
    }
  ],
  "metadata": {
    "kernelspec": {
      "display_name": "Python 3 (ipykernel)",
      "language": "python",
      "name": "python3"
    },
    "language_info": {
      "codemirror_mode": {
        "name": "ipython",
        "version": 3
      },
      "file_extension": ".py",
      "mimetype": "text/x-python",
      "name": "python",
      "nbconvert_exporter": "python",
      "pygments_lexer": "ipython3",
      "version": "3.10.12"
    },
    "colab": {
      "provenance": [],
      "include_colab_link": true
    }
  },
  "nbformat": 4,
  "nbformat_minor": 0
}